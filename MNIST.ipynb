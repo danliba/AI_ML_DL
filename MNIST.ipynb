{
  "nbformat": 4,
  "nbformat_minor": 0,
  "metadata": {
    "colab": {
      "name": "MNIST.ipynb",
      "provenance": [],
      "collapsed_sections": []
    },
    "kernelspec": {
      "name": "python3",
      "display_name": "Python 3"
    },
    "language_info": {
      "name": "python"
    },
    "accelerator": "GPU"
  },
  "cells": [
    {
      "cell_type": "markdown",
      "metadata": {
        "id": "EYOAhHu8FQaK"
      },
      "source": [
        "# PROBLEMA: CLASIFICACION DE DIGITOS USANDO EL DATASET MNIST\n",
        "## Entrada: Una imagen de un digito\n",
        "## Salida:  El número del digito\n",
        "![Captura de pantalla de 2021-07-11 13-09-10.png](data:image/png;base64,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)"
      ]
    },
    {
      "cell_type": "markdown",
      "metadata": {
        "id": "FdWdrld0FUH6"
      },
      "source": [
        "## **Ingestion**"
      ]
    },
    {
      "cell_type": "code",
      "metadata": {
        "id": "G0_ybCAmFbH7",
        "colab": {
          "base_uri": "https://localhost:8080/"
        },
        "outputId": "caa709d1-c9b0-4945-b7b4-a16fc9f77160"
      },
      "source": [
        "from keras.datasets import mnist                                                                                               \n",
        "(x_train, y_train), (x_test, y_test) = mnist.load_data()  "
      ],
      "execution_count": null,
      "outputs": [
        {
          "output_type": "stream",
          "text": [
            "Downloading data from https://storage.googleapis.com/tensorflow/tf-keras-datasets/mnist.npz\n",
            "11493376/11490434 [==============================] - 0s 0us/step\n",
            "11501568/11490434 [==============================] - 0s 0us/step\n"
          ],
          "name": "stdout"
        }
      ]
    },
    {
      "cell_type": "markdown",
      "metadata": {
        "id": "7eEunDhXs5O8"
      },
      "source": [
        "## La funcion load_data retorna:\n",
        "- **x_train**: uint8 NumPy array of grayscale image data with shapes (60000, 28, 28), containing the training data. Pixel values range from 0 to 255.\n",
        "\n",
        "- **y_train**: uint8 NumPy array of digit labels (integers in range 0-9) with shape (60000,) for the training data.\n",
        "\n",
        "- **x_test**: uint8 NumPy array of grayscale image data with shapes (10000, 28, 28), containing the test data. Pixel values range from 0 to 255.\n",
        "\n",
        "- **y_test**: uint8 NumPy array of digit labels (integers in range 0-9) with shape (10000,) for the test data."
      ]
    },
    {
      "cell_type": "markdown",
      "metadata": {
        "id": "DJK7dLK8H_Do"
      },
      "source": [
        "## **EDA**: Analisis exploratorio de datos"
      ]
    },
    {
      "cell_type": "markdown",
      "metadata": {
        "id": "IoW6V8YuvWid"
      },
      "source": [
        "### Dimensiones del dataset"
      ]
    },
    {
      "cell_type": "code",
      "metadata": {
        "colab": {
          "base_uri": "https://localhost:8080/"
        },
        "id": "MROchgSuIAjD",
        "outputId": "fe71cd2b-27e0-420a-da6d-e74069e64606"
      },
      "source": [
        "print(f\"El dataset de entrenamiento tiene {x_train.shape[0]} imágenes con dimensiones {x_train.shape[1:]} \")\n",
        "print(f\"El dataset de prueba tiene {x_test.shape[0]} imágenes\")"
      ],
      "execution_count": null,
      "outputs": [
        {
          "output_type": "stream",
          "text": [
            "El dataset de entrenamiento tiene 60000 imágenes con dimensiones (28, 28) \n",
            "El dataset de prueba tiene 10000 imágenes\n"
          ],
          "name": "stdout"
        }
      ]
    },
    {
      "cell_type": "code",
      "metadata": {
        "id": "pIcIDdz5I0AJ"
      },
      "source": [
        "label_names = ['0', '1', '2', '3', '4',\n",
        "               '5', '6', '7', '8', '9']"
      ],
      "execution_count": null,
      "outputs": []
    },
    {
      "cell_type": "code",
      "metadata": {
        "id": "14K_jOAa4UFV"
      },
      "source": [
        "import matplotlib.pyplot as plt"
      ],
      "execution_count": null,
      "outputs": []
    },
    {
      "cell_type": "markdown",
      "metadata": {
        "id": "0LnBTgeK5k4N"
      },
      "source": [
        "### Samples por digito"
      ]
    },
    {
      "cell_type": "code",
      "metadata": {
        "colab": {
          "base_uri": "https://localhost:8080/",
          "height": 335
        },
        "id": "K7WQM-8u4P7A",
        "outputId": "47965028-8633-465b-aaff-4783ba980479"
      },
      "source": [
        "plt.hist(y_train) "
      ],
      "execution_count": null,
      "outputs": [
        {
          "output_type": "execute_result",
          "data": {
            "text/plain": [
              "(array([5923., 6742., 5958., 6131., 5842., 5421., 5918., 6265., 5851.,\n",
              "        5949.]),\n",
              " array([0. , 0.9, 1.8, 2.7, 3.6, 4.5, 5.4, 6.3, 7.2, 8.1, 9. ]),\n",
              " <a list of 10 Patch objects>)"
            ]
          },
          "metadata": {
            "tags": []
          },
          "execution_count": 6
        },
        {
          "output_type": "display_data",
          "data": {
            "image/png": "[encoded data removed]",
            "text/plain": [
              "<Figure size 432x288 with 1 Axes>"
            ]
          },
          "metadata": {
            "tags": [],
            "needs_background": "light"
          }
        }
      ]
    },
    {
      "cell_type": "code",
      "metadata": {
        "colab": {
          "base_uri": "https://localhost:8080/",
          "height": 333
        },
        "id": "UPRIkFHj6Ffe",
        "outputId": "d3d9dfe3-9c4e-46d7-b225-7e3e75f1753b"
      },
      "source": [
        "plt.hist(y_test) "
      ],
      "execution_count": null,
      "outputs": [
        {
          "output_type": "execute_result",
          "data": {
            "text/plain": [
              "(array([ 980., 1135., 1032., 1010.,  982.,  892.,  958., 1028.,  974.,\n",
              "        1009.]),\n",
              " array([0. , 0.9, 1.8, 2.7, 3.6, 4.5, 5.4, 6.3, 7.2, 8.1, 9. ]),\n",
              " <a list of 10 Patch objects>)"
            ]
          },
          "metadata": {
            "tags": []
          },
          "execution_count": 7
        },
        {
          "output_type": "display_data",
          "data": {
            "image/png": "[encoded data removed]",
            "text/plain": [
              "<Figure size 432x288 with 1 Axes>"
            ]
          },
          "metadata": {
            "tags": [],
            "needs_background": "light"
          }
        }
      ]
    },
    {
      "cell_type": "markdown",
      "metadata": {
        "id": "Ox4s74k59cID"
      },
      "source": [
        "### Mostrar la matriz que representa la imagen (en escala de grises) de un digito\n",
        "\n",
        "En una imagen en escala de grises cada punto de la imagen se almacena en un Byte, donde su valor numérico representa su tono, que puede oscilar entre el blanco (255) y el negro (0). Esto quiere decir que es una imagen donde existen 256 tonos de gris (de 0 a 255).\n",
        "![image.png](data:image/png;base64,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)"
      ]
    },
    {
      "cell_type": "code",
      "metadata": {
        "colab": {
          "base_uri": "https://localhost:8080/",
          "height": 292
        },
        "id": "O7Gz8U6t8N1U",
        "outputId": "f977eea1-499b-4424-db0a-cc02020b30a2"
      },
      "source": [
        "plt.matshow(x_train[0], cmap=plt.cm.hot)\n"
      ],
      "execution_count": null,
      "outputs": [
        {
          "output_type": "execute_result",
          "data": {
            "text/plain": [
              "<matplotlib.image.AxesImage at 0x7f660a597750>"
            ]
          },
          "metadata": {
            "tags": []
          },
          "execution_count": 9
        },
        {
          "output_type": "display_data",
          "data": {
            "image/png": "[encoded data removed]",
            "text/plain": [
              "<Figure size 288x288 with 1 Axes>"
            ]
          },
          "metadata": {
            "tags": [],
            "needs_background": "light"
          }
        }
      ]
    },
    {
      "cell_type": "code",
      "metadata": {
        "colab": {
          "base_uri": "https://localhost:8080/"
        },
        "id": "DHdISxjb6qJC",
        "outputId": "bf2a35c6-3c87-4338-ca2c-0228a2e187df"
      },
      "source": [
        "# Una matriz 28 x 28, cada elemento puede tomar un valor entre 0 y 255.\n",
        "print(x_train[0])\n"
      ],
      "execution_count": null,
      "outputs": [
        {
          "output_type": "stream",
          "text": [
            "[[  0   0   0   0   0   0   0   0   0   0   0   0   0   0   0   0   0   0\n",
            "    0   0   0   0   0   0   0   0   0   0]\n",
            " [  0   0   0   0   0   0   0   0   0   0   0   0   0   0   0   0   0   0\n",
            "    0   0   0   0   0   0   0   0   0   0]\n",
            " [  0   0   0   0   0   0   0   0   0   0   0   0   0   0   0   0   0   0\n",
            "    0   0   0   0   0   0   0   0   0   0]\n",
            " [  0   0   0   0   0   0   0   0   0   0   0   0   0   0   0   0   0   0\n",
            "    0   0   0   0   0   0   0   0   0   0]\n",
            " [  0   0   0   0   0   0   0   0   0   0   0   0   0   0   0   0   0   0\n",
            "    0   0   0   0   0   0   0   0   0   0]\n",
            " [  0   0   0   0   0   0   0   0   0   0   0   0   3  18  18  18 126 136\n",
            "  175  26 166 255 247 127   0   0   0   0]\n",
            " [  0   0   0   0   0   0   0   0  30  36  94 154 170 253 253 253 253 253\n",
            "  225 172 253 242 195  64   0   0   0   0]\n",
            " [  0   0   0   0   0   0   0  49 238 253 253 253 253 253 253 253 253 251\n",
            "   93  82  82  56  39   0   0   0   0   0]\n",
            " [  0   0   0   0   0   0   0  18 219 253 253 253 253 253 198 182 247 241\n",
            "    0   0   0   0   0   0   0   0   0   0]\n",
            " [  0   0   0   0   0   0   0   0  80 156 107 253 253 205  11   0  43 154\n",
            "    0   0   0   0   0   0   0   0   0   0]\n",
            " [  0   0   0   0   0   0   0   0   0  14   1 154 253  90   0   0   0   0\n",
            "    0   0   0   0   0   0   0   0   0   0]\n",
            " [  0   0   0   0   0   0   0   0   0   0   0 139 253 190   2   0   0   0\n",
            "    0   0   0   0   0   0   0   0   0   0]\n",
            " [  0   0   0   0   0   0   0   0   0   0   0  11 190 253  70   0   0   0\n",
            "    0   0   0   0   0   0   0   0   0   0]\n",
            " [  0   0   0   0   0   0   0   0   0   0   0   0  35 241 225 160 108   1\n",
            "    0   0   0   0   0   0   0   0   0   0]\n",
            " [  0   0   0   0   0   0   0   0   0   0   0   0   0  81 240 253 253 119\n",
            "   25   0   0   0   0   0   0   0   0   0]\n",
            " [  0   0   0   0   0   0   0   0   0   0   0   0   0   0  45 186 253 253\n",
            "  150  27   0   0   0   0   0   0   0   0]\n",
            " [  0   0   0   0   0   0   0   0   0   0   0   0   0   0   0  16  93 252\n",
            "  253 187   0   0   0   0   0   0   0   0]\n",
            " [  0   0   0   0   0   0   0   0   0   0   0   0   0   0   0   0   0 249\n",
            "  253 249  64   0   0   0   0   0   0   0]\n",
            " [  0   0   0   0   0   0   0   0   0   0   0   0   0   0  46 130 183 253\n",
            "  253 207   2   0   0   0   0   0   0   0]\n",
            " [  0   0   0   0   0   0   0   0   0   0   0   0  39 148 229 253 253 253\n",
            "  250 182   0   0   0   0   0   0   0   0]\n",
            " [  0   0   0   0   0   0   0   0   0   0  24 114 221 253 253 253 253 201\n",
            "   78   0   0   0   0   0   0   0   0   0]\n",
            " [  0   0   0   0   0   0   0   0  23  66 213 253 253 253 253 198  81   2\n",
            "    0   0   0   0   0   0   0   0   0   0]\n",
            " [  0   0   0   0   0   0  18 171 219 253 253 253 253 195  80   9   0   0\n",
            "    0   0   0   0   0   0   0   0   0   0]\n",
            " [  0   0   0   0  55 172 226 253 253 253 253 244 133  11   0   0   0   0\n",
            "    0   0   0   0   0   0   0   0   0   0]\n",
            " [  0   0   0   0 136 253 253 253 212 135 132  16   0   0   0   0   0   0\n",
            "    0   0   0   0   0   0   0   0   0   0]\n",
            " [  0   0   0   0   0   0   0   0   0   0   0   0   0   0   0   0   0   0\n",
            "    0   0   0   0   0   0   0   0   0   0]\n",
            " [  0   0   0   0   0   0   0   0   0   0   0   0   0   0   0   0   0   0\n",
            "    0   0   0   0   0   0   0   0   0   0]\n",
            " [  0   0   0   0   0   0   0   0   0   0   0   0   0   0   0   0   0   0\n",
            "    0   0   0   0   0   0   0   0   0   0]]\n"
          ],
          "name": "stdout"
        }
      ]
    },
    {
      "cell_type": "markdown",
      "metadata": {
        "id": "xzEPTn6PzOES"
      },
      "source": [
        "### Visualizando un conjunto del dataset"
      ]
    },
    {
      "cell_type": "code",
      "metadata": {
        "id": "uVHjd251zbBS"
      },
      "source": [
        "def show_images_in_matrix(width, heigth, images, labels):\n",
        "  plt.figure(figsize=[3,3])\n",
        "  for i in range(width*heigth):   \n",
        "    plt.subplot(width, heigth, i+1)\n",
        "    plt.xticks([])\n",
        "    plt.yticks([])\n",
        "    plt.grid(False)\n",
        "    plt.imshow(images[i], cmap=plt.cm.hot)\n",
        "    plt.xlabel(label_names[labels[i]])\n",
        "  plt.show()\n"
      ],
      "execution_count": null,
      "outputs": []
    },
    {
      "cell_type": "markdown",
      "metadata": {
        "id": "nLQCt3gf2a-d"
      },
      "source": [
        "### Mostrando dataset de entrenamiento"
      ]
    },
    {
      "cell_type": "code",
      "metadata": {
        "colab": {
          "base_uri": "https://localhost:8080/",
          "height": 208
        },
        "id": "-i5dphphIg_Y",
        "outputId": "57b182cc-34dc-412a-e387-6db928fe593a"
      },
      "source": [
        "width = 3\n",
        "heigth = 3\n",
        "samplesSize = width*heigth\n",
        "show_images_in_matrix(width,heigth, x_train[0:samplesSize], y_train[0:samplesSize])"
      ],
      "execution_count": null,
      "outputs": [
        {
          "output_type": "display_data",
          "data": {
            "image/png": "[encoded data removed]",
            "text/plain": [
              "<Figure size 216x216 with 9 Axes>"
            ]
          },
          "metadata": {
            "tags": []
          }
        }
      ]
    },
    {
      "cell_type": "markdown",
      "metadata": {
        "id": "jpGGG0Ak2kOM"
      },
      "source": [
        "### Mostrando dataset de prueba"
      ]
    },
    {
      "cell_type": "code",
      "metadata": {
        "colab": {
          "base_uri": "https://localhost:8080/",
          "height": 208
        },
        "id": "eKxvOXFJ2nV5",
        "outputId": "5aaf401a-b074-483c-d025-6ebb57fc3e19"
      },
      "source": [
        "width = 3\n",
        "heigth = 3\n",
        "samplesSize = width*heigth\n",
        "show_images_in_matrix(width,heigth, x_test[0:samplesSize], y_test[0:samplesSize])"
      ],
      "execution_count": null,
      "outputs": [
        {
          "output_type": "display_data",
          "data": {
            "image/png": "[encoded data removed]",
            "text/plain": [
              "<Figure size 216x216 with 9 Axes>"
            ]
          },
          "metadata": {
            "tags": []
          }
        }
      ]
    },
    {
      "cell_type": "markdown",
      "metadata": {
        "id": "ArbeqHwYF-Ns"
      },
      "source": [
        "## **Preprocesing**"
      ]
    },
    {
      "cell_type": "code",
      "metadata": {
        "id": "PXnrbB5tFJWX"
      },
      "source": [
        "from keras.utils import np_utils\n",
        "import numpy as np\n",
        "\n",
        "# Convert 'y' dataset to categorical\n",
        "num_classes = 10\n",
        "y_train_preprocesed = np_utils.to_categorical(y_train, num_classes)                                   \n",
        "y_test_preprocesed = np_utils.to_categorical(y_test, num_classes)\n",
        "\n",
        "def preprocesing(dataset):\n",
        "  scaled = dataset.astype(\"float32\") / 255\n",
        "  reshaped = np.expand_dims(scaled, -1)\n",
        "  return reshaped\n",
        "\n",
        "def preprocessing_nn(dataset):\n",
        "  # normalize the pixel values from [0, 255] to [-0.5, 0.5]\n",
        "  scaled = (dataset / 255) - 0.5\n",
        "  # Flatten the images.\n",
        "  reshaped = scaled.reshape((-1, 28*28))\n",
        "  return reshaped\n",
        "\n",
        "\n",
        "                                                                    \n",
        "                      "
      ],
      "execution_count": null,
      "outputs": []
    },
    {
      "cell_type": "markdown",
      "metadata": {
        "id": "hLjM7gCUp7fr"
      },
      "source": [
        "### Para usar convolutional nerwork"
      ]
    },
    {
      "cell_type": "code",
      "metadata": {
        "colab": {
          "base_uri": "https://localhost:8080/"
        },
        "id": "00SgaGHDo45u",
        "outputId": "d661b84f-e223-4e0c-a1ba-3e38ed54c781"
      },
      "source": [
        "x_preprocesed_train = preprocesing(x_train)\n",
        "x_preprocesed_test = preprocesing(x_test)\n",
        "\n",
        "\n",
        "inputShape = x_preprocesed_train.shape[1:]\n",
        "print(inputShape)"
      ],
      "execution_count": null,
      "outputs": [
        {
          "output_type": "stream",
          "text": [
            "(28, 28, 1)\n"
          ],
          "name": "stdout"
        }
      ]
    },
    {
      "cell_type": "markdown",
      "metadata": {
        "id": "RqdInzkMqAa5"
      },
      "source": [
        "### Para usar simple network"
      ]
    },
    {
      "cell_type": "code",
      "metadata": {
        "colab": {
          "base_uri": "https://localhost:8080/"
        },
        "id": "MXvY-MHxpMyJ",
        "outputId": "d6498d0e-4fce-40ca-f9bf-30ed43f70dd3"
      },
      "source": [
        "x_preprocesed_train = preprocessing_nn(x_train)\n",
        "x_preprocesed_test = preprocessing_nn(x_test)\n",
        "\n",
        "\n",
        "inputShape = x_preprocesed_train.shape[1:]\n",
        "print(inputShape)"
      ],
      "execution_count": null,
      "outputs": [
        {
          "output_type": "stream",
          "text": [
            "(784,)\n"
          ],
          "name": "stdout"
        }
      ]
    },
    {
      "cell_type": "markdown",
      "metadata": {
        "id": "HnuDibcPGbxx"
      },
      "source": [
        "## **Modeling**"
      ]
    },
    {
      "cell_type": "code",
      "metadata": {
        "id": "XgtIbDzsUUNm"
      },
      "source": [
        "from keras.layers import Input, InputLayer, Dense, Dropout, Flatten, Conv2D, MaxPooling2D\n",
        "from keras.models import Model, Sequential\n",
        "\n",
        "def build_model():\n",
        " return Sequential([\n",
        "  Dense(64, activation='relu', input_shape=(inputShape)),\n",
        "  Dense(64, activation='relu'),\n",
        "  Dense(num_classes, activation='softmax'),\n",
        "])\n",
        "\n",
        "def build_model_convolutional():\n",
        "  return Sequential(\n",
        "    [\n",
        "        InputLayer(input_shape=inputShape),\n",
        "        Conv2D(32, kernel_size=(3, 3), activation=\"relu\"),\n",
        "        MaxPooling2D(pool_size=(2, 2)),\n",
        "        Conv2D(64, kernel_size=(3, 3), activation=\"relu\"),\n",
        "        MaxPooling2D(pool_size=(2, 2)),\n",
        "        Flatten(),\n",
        "        Dropout(0.5),\n",
        "        Dense(num_classes, activation=\"softmax\"),\n",
        "    ]\n",
        "  )                                        \n"
      ],
      "execution_count": null,
      "outputs": []
    },
    {
      "cell_type": "markdown",
      "metadata": {
        "id": "E8mnicDHsOQR"
      },
      "source": [
        "### Construimos un modelo \n",
        "Before we can begin training, we need to configure the training process. We decide 3 key factors during the compilation step:\n",
        "\n",
        "- The **optimizer**. We’ll stick with a pretty good default: the **Adam gradient-based optimizer**. Keras has many other optimizers you can look into as well.\n",
        "- The **loss function**. Since we’re using a Softmax output layer, we’ll use the Cross-Entropy loss. Keras distinguishes between binary_crossentropy (2 classes) and **categorical_crossentropy** (>2 classes), so we’ll use the latter. See all Keras losses.\n",
        "- A list of **metrics**. Since this is a classification problem, we’ll just have Keras report on the accuracy metric."
      ]
    },
    {
      "cell_type": "code",
      "metadata": {
        "colab": {
          "base_uri": "https://localhost:8080/"
        },
        "id": "3isXBydHGY7E",
        "outputId": "5eb5ed72-8581-47e7-f509-aca1e3455274"
      },
      "source": [
        "model = build_model()\n",
        "model.compile(loss=\"categorical_crossentropy\", optimizer=\"adam\", metrics=['accuracy'])        \n",
        "model.summary()  \n"
      ],
      "execution_count": null,
      "outputs": [
        {
          "output_type": "stream",
          "text": [
            "Model: \"sequential_1\"\n",
            "_________________________________________________________________\n",
            "Layer (type)                 Output Shape              Param #   \n",
            "=================================================================\n",
            "dense_3 (Dense)              (None, 64)                50240     \n",
            "_________________________________________________________________\n",
            "dense_4 (Dense)              (None, 64)                4160      \n",
            "_________________________________________________________________\n",
            "dense_5 (Dense)              (None, 10)                650       \n",
            "=================================================================\n",
            "Total params: 55,050\n",
            "Trainable params: 55,050\n",
            "Non-trainable params: 0\n",
            "_________________________________________________________________\n"
          ],
          "name": "stdout"
        }
      ]
    },
    {
      "cell_type": "markdown",
      "metadata": {
        "id": "sUwO0bAtJkRl"
      },
      "source": [
        "### Training and evaluation"
      ]
    },
    {
      "cell_type": "markdown",
      "metadata": {
        "id": "s-_LIPWcs4V5"
      },
      "source": [
        " BATCH SIZE * EPOCHS = SAMPLES DATASET"
      ]
    },
    {
      "cell_type": "code",
      "metadata": {
        "colab": {
          "base_uri": "https://localhost:8080/"
        },
        "id": "HiqdJEmWJn6w",
        "outputId": "0a259c0d-4e0e-42d3-826f-9504056e8200"
      },
      "source": [
        "history = model.fit(x_preprocesed_train, y_train_preprocesed, batch_size=128, epochs=5, verbose=1,                      \n",
        "          validation_data=(x_preprocesed_test, y_test_preprocesed)) "
      ],
      "execution_count": null,
      "outputs": [
        {
          "output_type": "stream",
          "text": [
            "Epoch 1/5\n",
            "469/469 [==============================] - 16s 4ms/step - loss: 0.7961 - accuracy: 0.7602 - val_loss: 0.2357 - val_accuracy: 0.9316\n",
            "Epoch 2/5\n",
            "469/469 [==============================] - 2s 3ms/step - loss: 0.2337 - accuracy: 0.9316 - val_loss: 0.1790 - val_accuracy: 0.9476\n",
            "Epoch 3/5\n",
            "469/469 [==============================] - 1s 3ms/step - loss: 0.1777 - accuracy: 0.9477 - val_loss: 0.1625 - val_accuracy: 0.9495\n",
            "Epoch 4/5\n",
            "469/469 [==============================] - 1s 3ms/step - loss: 0.1471 - accuracy: 0.9562 - val_loss: 0.1365 - val_accuracy: 0.9592\n",
            "Epoch 5/5\n",
            "469/469 [==============================] - 2s 3ms/step - loss: 0.1206 - accuracy: 0.9638 - val_loss: 0.1277 - val_accuracy: 0.9616\n"
          ],
          "name": "stdout"
        }
      ]
    },
    {
      "cell_type": "markdown",
      "metadata": {
        "id": "s5o_4rBgWUe3"
      },
      "source": [
        "### Evaluate model"
      ]
    },
    {
      "cell_type": "code",
      "metadata": {
        "colab": {
          "base_uri": "https://localhost:8080/"
        },
        "id": "45MONyG-WWio",
        "outputId": "d6faf536-431a-4aa8-ef1b-bdcbc9bdd2c7"
      },
      "source": [
        "score = model.evaluate(x_preprocesed_test, y_test_preprocesed, verbose=0)\n",
        "print(\"Test loss:\", score[0])\n",
        "print(\"Test accuracy:\", score[1])"
      ],
      "execution_count": null,
      "outputs": [
        {
          "output_type": "stream",
          "text": [
            "Test loss: 0.12772014737129211\n",
            "Test accuracy: 0.9616000056266785\n"
          ],
          "name": "stdout"
        }
      ]
    },
    {
      "cell_type": "markdown",
      "metadata": {
        "id": "qZfsdMJZjBPW"
      },
      "source": [
        "### Predict an image"
      ]
    },
    {
      "cell_type": "code",
      "metadata": {
        "id": "y1KVHjuMjGth"
      },
      "source": [
        "def predict(anIndexImage):\n",
        "  plt.imshow(x_test[anIndexImage], cmap=plt.cm.hot)\n",
        "  predicted = model.predict(x_preprocesed_test[anIndexImage: anIndexImage + 1])\n",
        "  digit_predicted = np.argmax(predicted, axis=1)\n",
        "  plt.xlabel(digit_predicted[0])\n",
        "  plt.show()\n",
        "\n"
      ],
      "execution_count": null,
      "outputs": []
    },
    {
      "cell_type": "code",
      "metadata": {
        "colab": {
          "base_uri": "https://localhost:8080/",
          "height": 296
        },
        "id": "UuCve4i_nvBz",
        "outputId": "f69bd390-3834-4c0d-e480-bafe0fefb794"
      },
      "source": [
        "anIndexImage = 9009\n",
        "print(\"Un error en prediccion\")\n",
        "predict(anIndexImage)\n"
      ],
      "execution_count": null,
      "outputs": [
        {
          "output_type": "stream",
          "text": [
            "Un error en prediccion\n"
          ],
          "name": "stdout"
        },
        {
          "output_type": "display_data",
          "data": {
            "image/png": "[encoded data removed]",
            "text/plain": [
              "<Figure size 432x288 with 1 Axes>"
            ]
          },
          "metadata": {
            "tags": [],
            "needs_background": "light"
          }
        }
      ]
    },
    {
      "cell_type": "code",
      "metadata": {
        "colab": {
          "base_uri": "https://localhost:8080/",
          "height": 296
        },
        "id": "4rqCELFFoC2V",
        "outputId": "3537a519-ee3e-4a1e-f73f-7099c34c731a"
      },
      "source": [
        "print(\"Una prediccion correcta\")\n",
        "predict(10)"
      ],
      "execution_count": null,
      "outputs": [
        {
          "output_type": "stream",
          "text": [
            "Una prediccion correcta\n"
          ],
          "name": "stdout"
        },
        {
          "output_type": "display_data",
          "data": {
            "image/png": "[encoded data removed]",
            "text/plain": [
              "<Figure size 432x288 with 1 Axes>"
            ]
          },
          "metadata": {
            "tags": [],
            "needs_background": "light"
          }
        }
      ]
    },
    {
      "cell_type": "markdown",
      "metadata": {
        "id": "21oGKoyfNsY3"
      },
      "source": [
        "## Visualizing evaluation"
      ]
    },
    {
      "cell_type": "code",
      "metadata": {
        "id": "pQCO8d3gNwBY",
        "colab": {
          "base_uri": "https://localhost:8080/",
          "height": 312
        },
        "outputId": "16639c22-82fb-4cd7-a4a9-4c22fa5aba87"
      },
      "source": [
        "# Loss curve\n",
        "plt.figure(figsize=[6,4])\n",
        "plt.plot(history.history['loss'], 'black', linewidth=2.0)\n",
        "plt.plot(history.history['val_loss'], 'green', linewidth=2.0)\n",
        "plt.legend(['Training Loss', 'Validation Loss'], fontsize=14)\n",
        "plt.xlabel('Epochs', fontsize=10)\n",
        "plt.ylabel('Loss', fontsize=10)\n",
        "plt.title('Loss Curves', fontsize=12)"
      ],
      "execution_count": null,
      "outputs": [
        {
          "output_type": "execute_result",
          "data": {
            "text/plain": [
              "Text(0.5, 1.0, 'Loss Curves')"
            ]
          },
          "metadata": {
            "tags": []
          },
          "execution_count": 22
        },
        {
          "output_type": "display_data",
          "data": {
            "image/png": "[encoded data removed]",
            "text/plain": [
              "<Figure size 432x288 with 1 Axes>"
            ]
          },
          "metadata": {
            "tags": [],
            "needs_background": "light"
          }
        }
      ]
    },
    {
      "cell_type": "code",
      "metadata": {
        "id": "BP-V9e2ZN2ss",
        "colab": {
          "base_uri": "https://localhost:8080/",
          "height": 312
        },
        "outputId": "8ffd0b6e-3eac-4394-bdfe-fe6a8a2cf4f8"
      },
      "source": [
        "# Accuracy curve\n",
        "plt.figure(figsize=[6,4])\n",
        "plt.plot(history.history['accuracy'], 'black', linewidth=2.0)\n",
        "plt.plot(history.history['val_accuracy'], 'blue', linewidth=2.0)\n",
        "plt.legend(['Training Accuracy', 'Validation Accuracy'], fontsize=14)\n",
        "plt.xlabel('Epochs', fontsize=10)\n",
        "plt.ylabel('Accuracy', fontsize=10)\n",
        "plt.title('Accuracy Curves', fontsize=12)"
      ],
      "execution_count": null,
      "outputs": [
        {
          "output_type": "execute_result",
          "data": {
            "text/plain": [
              "Text(0.5, 1.0, 'Accuracy Curves')"
            ]
          },
          "metadata": {
            "tags": []
          },
          "execution_count": 23
        },
        {
          "output_type": "display_data",
          "data": {
            "image/png": "[encoded data removed]",
            "text/plain": [
              "<Figure size 432x288 with 1 Axes>"
            ]
          },
          "metadata": {
            "tags": [],
            "needs_background": "light"
          }
        }
      ]
    },
    {
      "cell_type": "markdown",
      "metadata": {
        "id": "sOf8joZncnTQ"
      },
      "source": [
        "# TAREA:"
      ]
    },
    {
      "cell_type": "markdown",
      "metadata": {
        "id": "WvFgtmAUjIrJ"
      },
      "source": [
        "- MOSTRAR LAS IMAGENES EN UNA MATRIZ, POR EJEMPLO 3 X 3\n",
        "- ¿ES PROBLEMA DE CLASIFICACION ? Si es un problema de clasificacion de imagenes para lo cual parece que se uso el método de clasificación de números manuscritos basado en distancia Euclidiana a prototipos ya que el porcentaje de error es minimo\n",
        "\n"
      ]
    },
    {
      "cell_type": "markdown",
      "metadata": {
        "id": "Y8J31gm5xGSt"
      },
      "source": [
        "### Guias:\n",
        "- https://machinelearningmastery.com/how-to-develop-a-convolutional-neural-network-from-scratch-for-mnist-handwritten-digit-classification/\n",
        "- https://victorzhou.com/blog/keras-neural-network-tutorial/"
      ]
    },
    {
      "cell_type": "markdown",
      "metadata": {
        "id": "sfsODsyjjDsQ"
      },
      "source": [
        ""
      ]
    }
  ]
}